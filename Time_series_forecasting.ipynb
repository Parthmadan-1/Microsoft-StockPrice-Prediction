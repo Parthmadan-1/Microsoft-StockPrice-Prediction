{
 "cells": [
  {
   "cell_type": "code",
   "execution_count": 7,
   "metadata": {
    "colab": {
     "base_uri": "https://localhost:8080/",
     "height": 424
    },
    "id": "PSIHfWL23fBi",
    "outputId": "548a8b03-225f-4833-f543-c8956ec27c19"
   },
   "outputs": [
    {
     "data": {
      "text/html": [
       "<div>\n",
       "<style scoped>\n",
       "    .dataframe tbody tr th:only-of-type {\n",
       "        vertical-align: middle;\n",
       "    }\n",
       "\n",
       "    .dataframe tbody tr th {\n",
       "        vertical-align: top;\n",
       "    }\n",
       "\n",
       "    .dataframe thead th {\n",
       "        text-align: right;\n",
       "    }\n",
       "</style>\n",
       "<table border=\"1\" class=\"dataframe\">\n",
       "  <thead>\n",
       "    <tr style=\"text-align: right;\">\n",
       "      <th></th>\n",
       "      <th>Date</th>\n",
       "      <th>Open</th>\n",
       "      <th>High</th>\n",
       "      <th>Low</th>\n",
       "      <th>Close</th>\n",
       "      <th>Adj Close</th>\n",
       "      <th>Volume</th>\n",
       "    </tr>\n",
       "  </thead>\n",
       "  <tbody>\n",
       "    <tr>\n",
       "      <th>0</th>\n",
       "      <td>2021-11-08</td>\n",
       "      <td>337.299988</td>\n",
       "      <td>337.649994</td>\n",
       "      <td>334.440002</td>\n",
       "      <td>336.989990</td>\n",
       "      <td>334.191132</td>\n",
       "      <td>20897000</td>\n",
       "    </tr>\n",
       "    <tr>\n",
       "      <th>1</th>\n",
       "      <td>2021-11-09</td>\n",
       "      <td>337.109985</td>\n",
       "      <td>338.720001</td>\n",
       "      <td>334.529999</td>\n",
       "      <td>335.950012</td>\n",
       "      <td>333.159760</td>\n",
       "      <td>21307400</td>\n",
       "    </tr>\n",
       "    <tr>\n",
       "      <th>2</th>\n",
       "      <td>2021-11-10</td>\n",
       "      <td>334.570007</td>\n",
       "      <td>334.630005</td>\n",
       "      <td>329.920013</td>\n",
       "      <td>330.799988</td>\n",
       "      <td>328.052521</td>\n",
       "      <td>25500900</td>\n",
       "    </tr>\n",
       "    <tr>\n",
       "      <th>3</th>\n",
       "      <td>2021-11-11</td>\n",
       "      <td>331.250000</td>\n",
       "      <td>333.769989</td>\n",
       "      <td>330.510010</td>\n",
       "      <td>332.429993</td>\n",
       "      <td>329.669006</td>\n",
       "      <td>16849800</td>\n",
       "    </tr>\n",
       "    <tr>\n",
       "      <th>4</th>\n",
       "      <td>2021-11-12</td>\n",
       "      <td>333.920013</td>\n",
       "      <td>337.230011</td>\n",
       "      <td>333.790009</td>\n",
       "      <td>336.720001</td>\n",
       "      <td>333.923370</td>\n",
       "      <td>23831000</td>\n",
       "    </tr>\n",
       "    <tr>\n",
       "      <th>...</th>\n",
       "      <td>...</td>\n",
       "      <td>...</td>\n",
       "      <td>...</td>\n",
       "      <td>...</td>\n",
       "      <td>...</td>\n",
       "      <td>...</td>\n",
       "      <td>...</td>\n",
       "    </tr>\n",
       "    <tr>\n",
       "      <th>246</th>\n",
       "      <td>2022-10-31</td>\n",
       "      <td>233.759995</td>\n",
       "      <td>234.919998</td>\n",
       "      <td>231.149994</td>\n",
       "      <td>232.130005</td>\n",
       "      <td>232.130005</td>\n",
       "      <td>28357300</td>\n",
       "    </tr>\n",
       "    <tr>\n",
       "      <th>247</th>\n",
       "      <td>2022-11-01</td>\n",
       "      <td>234.600006</td>\n",
       "      <td>235.740005</td>\n",
       "      <td>227.330002</td>\n",
       "      <td>228.169998</td>\n",
       "      <td>228.169998</td>\n",
       "      <td>30592300</td>\n",
       "    </tr>\n",
       "    <tr>\n",
       "      <th>248</th>\n",
       "      <td>2022-11-02</td>\n",
       "      <td>229.460007</td>\n",
       "      <td>231.300003</td>\n",
       "      <td>220.039993</td>\n",
       "      <td>220.100006</td>\n",
       "      <td>220.100006</td>\n",
       "      <td>38407000</td>\n",
       "    </tr>\n",
       "    <tr>\n",
       "      <th>249</th>\n",
       "      <td>2022-11-03</td>\n",
       "      <td>220.089996</td>\n",
       "      <td>220.410004</td>\n",
       "      <td>213.979996</td>\n",
       "      <td>214.250000</td>\n",
       "      <td>214.250000</td>\n",
       "      <td>36633900</td>\n",
       "    </tr>\n",
       "    <tr>\n",
       "      <th>250</th>\n",
       "      <td>2022-11-04</td>\n",
       "      <td>217.550003</td>\n",
       "      <td>221.589996</td>\n",
       "      <td>213.429993</td>\n",
       "      <td>221.389999</td>\n",
       "      <td>221.389999</td>\n",
       "      <td>36767800</td>\n",
       "    </tr>\n",
       "  </tbody>\n",
       "</table>\n",
       "<p>251 rows × 7 columns</p>\n",
       "</div>"
      ],
      "text/plain": [
       "           Date        Open        High         Low       Close   Adj Close  \\\n",
       "0    2021-11-08  337.299988  337.649994  334.440002  336.989990  334.191132   \n",
       "1    2021-11-09  337.109985  338.720001  334.529999  335.950012  333.159760   \n",
       "2    2021-11-10  334.570007  334.630005  329.920013  330.799988  328.052521   \n",
       "3    2021-11-11  331.250000  333.769989  330.510010  332.429993  329.669006   \n",
       "4    2021-11-12  333.920013  337.230011  333.790009  336.720001  333.923370   \n",
       "..          ...         ...         ...         ...         ...         ...   \n",
       "246  2022-10-31  233.759995  234.919998  231.149994  232.130005  232.130005   \n",
       "247  2022-11-01  234.600006  235.740005  227.330002  228.169998  228.169998   \n",
       "248  2022-11-02  229.460007  231.300003  220.039993  220.100006  220.100006   \n",
       "249  2022-11-03  220.089996  220.410004  213.979996  214.250000  214.250000   \n",
       "250  2022-11-04  217.550003  221.589996  213.429993  221.389999  221.389999   \n",
       "\n",
       "       Volume  \n",
       "0    20897000  \n",
       "1    21307400  \n",
       "2    25500900  \n",
       "3    16849800  \n",
       "4    23831000  \n",
       "..        ...  \n",
       "246  28357300  \n",
       "247  30592300  \n",
       "248  38407000  \n",
       "249  36633900  \n",
       "250  36767800  \n",
       "\n",
       "[251 rows x 7 columns]"
      ]
     },
     "execution_count": 7,
     "metadata": {},
     "output_type": "execute_result"
    }
   ],
   "source": [
    "\n",
    "import numpy as np\n",
    "import pandas as pd\n",
    "df = pd.read_csv('MSFT.csv')\n",
    "\n",
    "df"
   ]
  },
  {
   "cell_type": "code",
   "execution_count": 6,
   "metadata": {
    "colab": {
     "base_uri": "https://localhost:8080/",
     "height": 424
    },
    "id": "3I6ju2n83jGq",
    "outputId": "ffbaacb7-5393-4982-8726-a5f79b8a9fdd"
   },
   "outputs": [
    {
     "ename": "NameError",
     "evalue": "name 'df' is not defined",
     "output_type": "error",
     "traceback": [
      "\u001b[1;31m---------------------------------------------------------------------------\u001b[0m",
      "\u001b[1;31mNameError\u001b[0m                                 Traceback (most recent call last)",
      "Input \u001b[1;32mIn [6]\u001b[0m, in \u001b[0;36m<cell line: 1>\u001b[1;34m()\u001b[0m\n\u001b[1;32m----> 1\u001b[0m df \u001b[38;5;241m=\u001b[39m \u001b[43mdf\u001b[49m[[\u001b[38;5;124m'\u001b[39m\u001b[38;5;124mDate\u001b[39m\u001b[38;5;124m'\u001b[39m, \u001b[38;5;124m'\u001b[39m\u001b[38;5;124mClose\u001b[39m\u001b[38;5;124m'\u001b[39m]]\n\u001b[0;32m      3\u001b[0m df\n",
      "\u001b[1;31mNameError\u001b[0m: name 'df' is not defined"
     ]
    }
   ],
   "source": [
    "df = df[['Date', 'Close']]\n",
    "\n",
    "df"
   ]
  },
  {
   "cell_type": "code",
   "execution_count": 3,
   "metadata": {
    "colab": {
     "base_uri": "https://localhost:8080/"
    },
    "id": "fCNhH5qH6Fc3",
    "outputId": "98de4ba4-c1f1-4696-c065-754a0cac0049"
   },
   "outputs": [
    {
     "ename": "NameError",
     "evalue": "name 'df' is not defined",
     "output_type": "error",
     "traceback": [
      "\u001b[1;31m---------------------------------------------------------------------------\u001b[0m",
      "\u001b[1;31mNameError\u001b[0m                                 Traceback (most recent call last)",
      "Input \u001b[1;32mIn [3]\u001b[0m, in \u001b[0;36m<cell line: 1>\u001b[1;34m()\u001b[0m\n\u001b[1;32m----> 1\u001b[0m \u001b[43mdf\u001b[49m[\u001b[38;5;124m'\u001b[39m\u001b[38;5;124mDate\u001b[39m\u001b[38;5;124m'\u001b[39m]\n",
      "\u001b[1;31mNameError\u001b[0m: name 'df' is not defined"
     ]
    }
   ],
   "source": [
    "df['Date']"
   ]
  },
  {
   "cell_type": "code",
   "execution_count": 4,
   "metadata": {
    "colab": {
     "base_uri": "https://localhost:8080/"
    },
    "id": "ZtzK_Fnd6UEP",
    "outputId": "bb06298a-412c-49f5-f830-0a7c7e857693"
   },
   "outputs": [
    {
     "data": {
      "text/plain": [
       "datetime.datetime(1986, 3, 19, 0, 0)"
      ]
     },
     "execution_count": 4,
     "metadata": {},
     "output_type": "execute_result"
    }
   ],
   "source": [
    "import datetime\n",
    "\n",
    "def str_to_datetime(s):\n",
    "  split = s.split('-')\n",
    "  year, month, day = int(split[0]), int(split[1]), int(split[2])\n",
    "  return datetime.datetime(year=year, month=month, day=day)\n",
    "\n",
    "datetime_object = str_to_datetime('1986-03-19')\n",
    "datetime_object"
   ]
  },
  {
   "cell_type": "code",
   "execution_count": 5,
   "metadata": {
    "colab": {
     "base_uri": "https://localhost:8080/",
     "height": 424
    },
    "id": "fE62iBCl-d_P",
    "outputId": "51fd791c-bda5-4375-be3f-a88efa479805"
   },
   "outputs": [
    {
     "ename": "NameError",
     "evalue": "name 'df' is not defined",
     "output_type": "error",
     "traceback": [
      "\u001b[1;31m---------------------------------------------------------------------------\u001b[0m",
      "\u001b[1;31mNameError\u001b[0m                                 Traceback (most recent call last)",
      "Input \u001b[1;32mIn [5]\u001b[0m, in \u001b[0;36m<cell line: 1>\u001b[1;34m()\u001b[0m\n\u001b[1;32m----> 1\u001b[0m \u001b[43mdf\u001b[49m\n",
      "\u001b[1;31mNameError\u001b[0m: name 'df' is not defined"
     ]
    }
   ],
   "source": [
    "df"
   ]
  },
  {
   "cell_type": "code",
   "execution_count": 6,
   "metadata": {
    "colab": {
     "base_uri": "https://localhost:8080/"
    },
    "id": "-0LJeyey_o6t",
    "outputId": "f4d3bf9d-417e-4bad-ec76-97415e50bdae"
   },
   "outputs": [
    {
     "name": "stderr",
     "output_type": "stream",
     "text": [
      "C:\\Users\\ASUS\\AppData\\Local\\Temp\\ipykernel_18484\\2565755782.py:1: SettingWithCopyWarning: \n",
      "A value is trying to be set on a copy of a slice from a DataFrame.\n",
      "Try using .loc[row_indexer,col_indexer] = value instead\n",
      "\n",
      "See the caveats in the documentation: https://pandas.pydata.org/pandas-docs/stable/user_guide/indexing.html#returning-a-view-versus-a-copy\n",
      "  df['Date'] = df['Date'].apply(str_to_datetime)\n"
     ]
    },
    {
     "data": {
      "text/plain": [
       "0     2021-11-08\n",
       "1     2021-11-09\n",
       "2     2021-11-10\n",
       "3     2021-11-11\n",
       "4     2021-11-12\n",
       "         ...    \n",
       "246   2022-10-31\n",
       "247   2022-11-01\n",
       "248   2022-11-02\n",
       "249   2022-11-03\n",
       "250   2022-11-04\n",
       "Name: Date, Length: 251, dtype: datetime64[ns]"
      ]
     },
     "execution_count": 6,
     "metadata": {},
     "output_type": "execute_result"
    }
   ],
   "source": [
    "df['Date'] = df['Date'].apply(str_to_datetime)\n",
    "df['Date']"
   ]
  },
  {
   "cell_type": "code",
   "execution_count": 7,
   "metadata": {
    "colab": {
     "base_uri": "https://localhost:8080/",
     "height": 455
    },
    "id": "khQN7tf1BJCB",
    "outputId": "09f6deea-48e4-4ed3-975b-fa261c7c8f35"
   },
   "outputs": [
    {
     "data": {
      "text/html": [
       "<div>\n",
       "<style scoped>\n",
       "    .dataframe tbody tr th:only-of-type {\n",
       "        vertical-align: middle;\n",
       "    }\n",
       "\n",
       "    .dataframe tbody tr th {\n",
       "        vertical-align: top;\n",
       "    }\n",
       "\n",
       "    .dataframe thead th {\n",
       "        text-align: right;\n",
       "    }\n",
       "</style>\n",
       "<table border=\"1\" class=\"dataframe\">\n",
       "  <thead>\n",
       "    <tr style=\"text-align: right;\">\n",
       "      <th></th>\n",
       "      <th>Close</th>\n",
       "    </tr>\n",
       "    <tr>\n",
       "      <th>Date</th>\n",
       "      <th></th>\n",
       "    </tr>\n",
       "  </thead>\n",
       "  <tbody>\n",
       "    <tr>\n",
       "      <th>2021-11-08</th>\n",
       "      <td>336.989990</td>\n",
       "    </tr>\n",
       "    <tr>\n",
       "      <th>2021-11-09</th>\n",
       "      <td>335.950012</td>\n",
       "    </tr>\n",
       "    <tr>\n",
       "      <th>2021-11-10</th>\n",
       "      <td>330.799988</td>\n",
       "    </tr>\n",
       "    <tr>\n",
       "      <th>2021-11-11</th>\n",
       "      <td>332.429993</td>\n",
       "    </tr>\n",
       "    <tr>\n",
       "      <th>2021-11-12</th>\n",
       "      <td>336.720001</td>\n",
       "    </tr>\n",
       "    <tr>\n",
       "      <th>...</th>\n",
       "      <td>...</td>\n",
       "    </tr>\n",
       "    <tr>\n",
       "      <th>2022-10-31</th>\n",
       "      <td>232.130005</td>\n",
       "    </tr>\n",
       "    <tr>\n",
       "      <th>2022-11-01</th>\n",
       "      <td>228.169998</td>\n",
       "    </tr>\n",
       "    <tr>\n",
       "      <th>2022-11-02</th>\n",
       "      <td>220.100006</td>\n",
       "    </tr>\n",
       "    <tr>\n",
       "      <th>2022-11-03</th>\n",
       "      <td>214.250000</td>\n",
       "    </tr>\n",
       "    <tr>\n",
       "      <th>2022-11-04</th>\n",
       "      <td>221.389999</td>\n",
       "    </tr>\n",
       "  </tbody>\n",
       "</table>\n",
       "<p>251 rows × 1 columns</p>\n",
       "</div>"
      ],
      "text/plain": [
       "                 Close\n",
       "Date                  \n",
       "2021-11-08  336.989990\n",
       "2021-11-09  335.950012\n",
       "2021-11-10  330.799988\n",
       "2021-11-11  332.429993\n",
       "2021-11-12  336.720001\n",
       "...                ...\n",
       "2022-10-31  232.130005\n",
       "2022-11-01  228.169998\n",
       "2022-11-02  220.100006\n",
       "2022-11-03  214.250000\n",
       "2022-11-04  221.389999\n",
       "\n",
       "[251 rows x 1 columns]"
      ]
     },
     "execution_count": 7,
     "metadata": {},
     "output_type": "execute_result"
    }
   ],
   "source": [
    "df.index = df.pop('Date')\n",
    "df"
   ]
  },
  {
   "cell_type": "code",
   "execution_count": 8,
   "metadata": {
    "colab": {
     "base_uri": "https://localhost:8080/",
     "height": 283
    },
    "id": "17OZExfcBWzD",
    "outputId": "d1e6868b-b04e-49b1-c7a1-cf4f705843ff"
   },
   "outputs": [
    {
     "data": {
      "text/plain": [
       "[<matplotlib.lines.Line2D at 0x27b475b91b0>]"
      ]
     },
     "execution_count": 8,
     "metadata": {},
     "output_type": "execute_result"
    },
    {
     "data": {
      "image/png": "[encoded data removed]",
      "text/plain": [
       "<Figure size 432x288 with 1 Axes>"
      ]
     },
     "metadata": {
      "needs_background": "light"
     },
     "output_type": "display_data"
    }
   ],
   "source": [
    "import matplotlib.pyplot as plt\n",
    "\n",
    "plt.plot(df.index, df['Close'])"
   ]
  },
  {
   "cell_type": "code",
   "execution_count": 9,
   "metadata": {
    "colab": {
     "base_uri": "https://localhost:8080/",
     "height": 424
    },
    "id": "fsU9d3u0HdYj",
    "outputId": "10e55e21-f752-4d49-d7c2-ad01b39f2441"
   },
   "outputs": [
    {
     "data": {
      "text/html": [
       "<div>\n",
       "<style scoped>\n",
       "    .dataframe tbody tr th:only-of-type {\n",
       "        vertical-align: middle;\n",
       "    }\n",
       "\n",
       "    .dataframe tbody tr th {\n",
       "        vertical-align: top;\n",
       "    }\n",
       "\n",
       "    .dataframe thead th {\n",
       "        text-align: right;\n",
       "    }\n",
       "</style>\n",
       "<table border=\"1\" class=\"dataframe\">\n",
       "  <thead>\n",
       "    <tr style=\"text-align: right;\">\n",
       "      <th></th>\n",
       "      <th>Target Date</th>\n",
       "      <th>Target-3</th>\n",
       "      <th>Target-2</th>\n",
       "      <th>Target-1</th>\n",
       "      <th>Target</th>\n",
       "    </tr>\n",
       "  </thead>\n",
       "  <tbody>\n",
       "    <tr>\n",
       "      <th>0</th>\n",
       "      <td>2021-11-11</td>\n",
       "      <td>336.989990</td>\n",
       "      <td>335.950012</td>\n",
       "      <td>330.799988</td>\n",
       "      <td>332.429993</td>\n",
       "    </tr>\n",
       "    <tr>\n",
       "      <th>1</th>\n",
       "      <td>2021-11-12</td>\n",
       "      <td>335.950012</td>\n",
       "      <td>330.799988</td>\n",
       "      <td>332.429993</td>\n",
       "      <td>336.720001</td>\n",
       "    </tr>\n",
       "    <tr>\n",
       "      <th>2</th>\n",
       "      <td>2021-11-15</td>\n",
       "      <td>330.799988</td>\n",
       "      <td>332.429993</td>\n",
       "      <td>336.720001</td>\n",
       "      <td>336.070007</td>\n",
       "    </tr>\n",
       "    <tr>\n",
       "      <th>3</th>\n",
       "      <td>2021-11-16</td>\n",
       "      <td>332.429993</td>\n",
       "      <td>336.720001</td>\n",
       "      <td>336.070007</td>\n",
       "      <td>339.510010</td>\n",
       "    </tr>\n",
       "    <tr>\n",
       "      <th>4</th>\n",
       "      <td>2021-11-17</td>\n",
       "      <td>336.720001</td>\n",
       "      <td>336.070007</td>\n",
       "      <td>339.510010</td>\n",
       "      <td>339.119995</td>\n",
       "    </tr>\n",
       "    <tr>\n",
       "      <th>...</th>\n",
       "      <td>...</td>\n",
       "      <td>...</td>\n",
       "      <td>...</td>\n",
       "      <td>...</td>\n",
       "      <td>...</td>\n",
       "    </tr>\n",
       "    <tr>\n",
       "      <th>243</th>\n",
       "      <td>2022-10-31</td>\n",
       "      <td>231.320007</td>\n",
       "      <td>226.750000</td>\n",
       "      <td>235.869995</td>\n",
       "      <td>232.130005</td>\n",
       "    </tr>\n",
       "    <tr>\n",
       "      <th>244</th>\n",
       "      <td>2022-11-01</td>\n",
       "      <td>226.750000</td>\n",
       "      <td>235.869995</td>\n",
       "      <td>232.130005</td>\n",
       "      <td>228.169998</td>\n",
       "    </tr>\n",
       "    <tr>\n",
       "      <th>245</th>\n",
       "      <td>2022-11-02</td>\n",
       "      <td>235.869995</td>\n",
       "      <td>232.130005</td>\n",
       "      <td>228.169998</td>\n",
       "      <td>220.100006</td>\n",
       "    </tr>\n",
       "    <tr>\n",
       "      <th>246</th>\n",
       "      <td>2022-11-03</td>\n",
       "      <td>232.130005</td>\n",
       "      <td>228.169998</td>\n",
       "      <td>220.100006</td>\n",
       "      <td>214.250000</td>\n",
       "    </tr>\n",
       "    <tr>\n",
       "      <th>247</th>\n",
       "      <td>2022-11-04</td>\n",
       "      <td>228.169998</td>\n",
       "      <td>220.100006</td>\n",
       "      <td>214.250000</td>\n",
       "      <td>221.389999</td>\n",
       "    </tr>\n",
       "  </tbody>\n",
       "</table>\n",
       "<p>248 rows × 5 columns</p>\n",
       "</div>"
      ],
      "text/plain": [
       "    Target Date    Target-3    Target-2    Target-1      Target\n",
       "0    2021-11-11  336.989990  335.950012  330.799988  332.429993\n",
       "1    2021-11-12  335.950012  330.799988  332.429993  336.720001\n",
       "2    2021-11-15  330.799988  332.429993  336.720001  336.070007\n",
       "3    2021-11-16  332.429993  336.720001  336.070007  339.510010\n",
       "4    2021-11-17  336.720001  336.070007  339.510010  339.119995\n",
       "..          ...         ...         ...         ...         ...\n",
       "243  2022-10-31  231.320007  226.750000  235.869995  232.130005\n",
       "244  2022-11-01  226.750000  235.869995  232.130005  228.169998\n",
       "245  2022-11-02  235.869995  232.130005  228.169998  220.100006\n",
       "246  2022-11-03  232.130005  228.169998  220.100006  214.250000\n",
       "247  2022-11-04  228.169998  220.100006  214.250000  221.389999\n",
       "\n",
       "[248 rows x 5 columns]"
      ]
     },
     "execution_count": 9,
     "metadata": {},
     "output_type": "execute_result"
    }
   ],
   "source": [
    "import numpy as np\n",
    "\n",
    "def df_to_windowed_df(dataframe, first_date_str, last_date_str, n=3):\n",
    "  first_date = str_to_datetime(first_date_str)\n",
    "  last_date  = str_to_datetime(last_date_str)\n",
    "\n",
    "  target_date = first_date\n",
    "  \n",
    "  dates = []\n",
    "  X, Y = [], []\n",
    "\n",
    "  last_time = False\n",
    "  while True:\n",
    "    df_subset = dataframe.loc[:target_date].tail(n+1)\n",
    "    \n",
    "    if len(df_subset) != n+1:\n",
    "      print(f'Error: Window of size {n} is too large for date {target_date}')\n",
    "      return\n",
    "\n",
    "    values = df_subset['Close'].to_numpy()\n",
    "    x, y = values[:-1], values[-1]\n",
    "\n",
    "    dates.append(target_date)\n",
    "    X.append(x)\n",
    "    Y.append(y)\n",
    "\n",
    "    next_week = dataframe.loc[target_date:target_date+datetime.timedelta(days=7)]\n",
    "    next_datetime_str = str(next_week.head(2).tail(1).index.values[0])\n",
    "    next_date_str = next_datetime_str.split('T')[0]\n",
    "    year_month_day = next_date_str.split('-')\n",
    "    year, month, day = year_month_day\n",
    "    next_date = datetime.datetime(day=int(day), month=int(month), year=int(year))\n",
    "    \n",
    "    if last_time:\n",
    "      break\n",
    "    \n",
    "    target_date = next_date\n",
    "\n",
    "    if target_date == last_date:\n",
    "      last_time = True\n",
    "    \n",
    "  ret_df = pd.DataFrame({})\n",
    "  ret_df['Target Date'] = dates\n",
    "  \n",
    "  X = np.array(X)\n",
    "  for i in range(0, n):\n",
    "    X[:, i]\n",
    "    ret_df[f'Target-{n-i}'] = X[:, i]\n",
    "  \n",
    "  ret_df['Target'] = Y\n",
    "\n",
    "  return ret_df\n",
    "\n",
    "windowed_df = df_to_windowed_df(df, \n",
    "                                '2021-11-11', \n",
    "                                '2022-11-04', \n",
    "                                n=3)\n",
    "windowed_df"
   ]
  },
  {
   "cell_type": "code",
   "execution_count": 10,
   "metadata": {
    "colab": {
     "base_uri": "https://localhost:8080/"
    },
    "id": "uD17zIbaIZ6n",
    "outputId": "190e0356-1c59-4bdb-9aaa-002cf15aecd7"
   },
   "outputs": [
    {
     "data": {
      "text/plain": [
       "((248,), (248, 3, 1), (248,))"
      ]
     },
     "execution_count": 10,
     "metadata": {},
     "output_type": "execute_result"
    }
   ],
   "source": [
    "def windowed_df_to_date_X_y(windowed_dataframe):\n",
    "  df_as_np = windowed_dataframe.to_numpy()\n",
    "\n",
    "  dates = df_as_np[:, 0]\n",
    "\n",
    "  middle_matrix = df_as_np[:, 1:-1]\n",
    "  X = middle_matrix.reshape((len(dates), middle_matrix.shape[1], 1))\n",
    "\n",
    "  Y = df_as_np[:, -1]\n",
    "\n",
    "  return dates, X.astype(np.float32), Y.astype(np.float32)\n",
    "\n",
    "dates, X, y = windowed_df_to_date_X_y(windowed_df)\n",
    "\n",
    "dates.shape, X.shape, y.shape"
   ]
  },
  {
   "cell_type": "code",
   "execution_count": 11,
   "metadata": {
    "colab": {
     "base_uri": "https://localhost:8080/",
     "height": 283
    },
    "id": "LPHWfwZeMZSS",
    "outputId": "6d7b78be-84c4-4e17-9677-549d55e77ea4"
   },
   "outputs": [
    {
     "data": {
      "text/plain": [
       "<matplotlib.legend.Legend at 0x27b47662fe0>"
      ]
     },
     "execution_count": 11,
     "metadata": {},
     "output_type": "execute_result"
    },
    {
     "data": {
      "image/png": "[encoded data removed]",
      "text/plain": [
       "<Figure size 432x288 with 1 Axes>"
      ]
     },
     "metadata": {
      "needs_background": "light"
     },
     "output_type": "display_data"
    }
   ],
   "source": [
    "q_80 = int(len(dates) * .8)\n",
    "q_90 = int(len(dates) * .9)\n",
    "\n",
    "dates_train, X_train, y_train = dates[:q_80], X[:q_80], y[:q_80]\n",
    "\n",
    "dates_val, X_val, y_val = dates[q_80:q_90], X[q_80:q_90], y[q_80:q_90]\n",
    "dates_test, X_test, y_test = dates[q_90:], X[q_90:], y[q_90:]\n",
    "\n",
    "plt.plot(dates_train, y_train)\n",
    "plt.plot(dates_val, y_val)\n",
    "plt.plot(dates_test, y_test)\n",
    "\n",
    "plt.legend(['Train', 'Validation', 'Test'])"
   ]
  },
  {
   "cell_type": "code",
   "execution_count": 12,
   "metadata": {
    "colab": {
     "base_uri": "https://localhost:8080/"
    },
    "id": "PGiLbQIYOawE",
    "outputId": "bcb769d6-d4c5-4522-e576-cd89ff64a067"
   },
   "outputs": [
    {
     "name": "stdout",
     "output_type": "stream",
     "text": [
      "Epoch 1/100\n",
      "7/7 [==============================] - 7s 283ms/step - loss: 85804.1016 - mean_absolute_error: 291.7017 - val_loss: 62530.4258 - val_mean_absolute_error: 249.8208\n",
      "Epoch 2/100\n",
      "7/7 [==============================] - 0s 25ms/step - loss: 85592.4375 - mean_absolute_error: 291.3391 - val_loss: 62360.8008 - val_mean_absolute_error: 249.4811\n",
      "Epoch 3/100\n",
      "7/7 [==============================] - 0s 18ms/step - loss: 85382.0234 - mean_absolute_error: 290.9773 - val_loss: 62170.8750 - val_mean_absolute_error: 249.1002\n",
      "Epoch 4/100\n",
      "7/7 [==============================] - 0s 39ms/step - loss: 85154.5469 - mean_absolute_error: 290.5861 - val_loss: 61957.6758 - val_mean_absolute_error: 248.6718\n",
      "Epoch 5/100\n",
      "7/7 [==============================] - 0s 17ms/step - loss: 84894.1016 - mean_absolute_error: 290.1381 - val_loss: 61706.0547 - val_mean_absolute_error: 248.1652\n",
      "Epoch 6/100\n",
      "7/7 [==============================] - 0s 12ms/step - loss: 84570.4062 - mean_absolute_error: 289.5791 - val_loss: 61344.7148 - val_mean_absolute_error: 247.4359\n",
      "Epoch 7/100\n",
      "7/7 [==============================] - 0s 52ms/step - loss: 84070.1562 - mean_absolute_error: 288.7110 - val_loss: 60786.7305 - val_mean_absolute_error: 246.3062\n",
      "Epoch 8/100\n",
      "7/7 [==============================] - 0s 55ms/step - loss: 83380.0938 - mean_absolute_error: 287.5171 - val_loss: 60234.2656 - val_mean_absolute_error: 245.1822\n",
      "Epoch 9/100\n",
      "7/7 [==============================] - 0s 11ms/step - loss: 82723.0703 - mean_absolute_error: 286.3736 - val_loss: 59597.7383 - val_mean_absolute_error: 243.8804\n",
      "Epoch 10/100\n",
      "7/7 [==============================] - 0s 47ms/step - loss: 81898.7656 - mean_absolute_error: 284.9258 - val_loss: 58785.6484 - val_mean_absolute_error: 242.2100\n",
      "Epoch 11/100\n",
      "7/7 [==============================] - 0s 19ms/step - loss: 80898.9062 - mean_absolute_error: 283.1735 - val_loss: 57853.2891 - val_mean_absolute_error: 240.2773\n",
      "Epoch 12/100\n",
      "7/7 [==============================] - 0s 28ms/step - loss: 79708.8672 - mean_absolute_error: 281.0596 - val_loss: 56641.7109 - val_mean_absolute_error: 237.7424\n",
      "Epoch 13/100\n",
      "7/7 [==============================] - 0s 15ms/step - loss: 78175.8750 - mean_absolute_error: 278.3139 - val_loss: 55218.1914 - val_mean_absolute_error: 234.7295\n",
      "Epoch 14/100\n",
      "7/7 [==============================] - 0s 13ms/step - loss: 76399.0391 - mean_absolute_error: 275.1079 - val_loss: 53512.6484 - val_mean_absolute_error: 231.0681\n",
      "Epoch 15/100\n",
      "7/7 [==============================] - 0s 12ms/step - loss: 74240.6250 - mean_absolute_error: 271.1591 - val_loss: 51524.9102 - val_mean_absolute_error: 226.7264\n",
      "Epoch 16/100\n",
      "7/7 [==============================] - 0s 12ms/step - loss: 71816.8281 - mean_absolute_error: 266.6340 - val_loss: 49263.1055 - val_mean_absolute_error: 221.6816\n",
      "Epoch 17/100\n",
      "7/7 [==============================] - 0s 30ms/step - loss: 68879.8750 - mean_absolute_error: 261.0642 - val_loss: 46567.7656 - val_mean_absolute_error: 215.5176\n",
      "Epoch 18/100\n",
      "7/7 [==============================] - 0s 16ms/step - loss: 65661.7266 - mean_absolute_error: 254.8362 - val_loss: 43814.5391 - val_mean_absolute_error: 209.0317\n",
      "Epoch 19/100\n",
      "7/7 [==============================] - 0s 18ms/step - loss: 62192.0000 - mean_absolute_error: 247.9459 - val_loss: 40663.4375 - val_mean_absolute_error: 201.3541\n",
      "Epoch 20/100\n",
      "7/7 [==============================] - 0s 11ms/step - loss: 58311.6953 - mean_absolute_error: 239.9919 - val_loss: 37433.9219 - val_mean_absolute_error: 193.1682\n",
      "Epoch 21/100\n",
      "7/7 [==============================] - 0s 18ms/step - loss: 54337.9492 - mean_absolute_error: 231.5367 - val_loss: 34045.8594 - val_mean_absolute_error: 184.1897\n",
      "Epoch 22/100\n",
      "7/7 [==============================] - 0s 14ms/step - loss: 50098.3633 - mean_absolute_error: 222.2062 - val_loss: 30358.1328 - val_mean_absolute_error: 173.8896\n",
      "Epoch 23/100\n",
      "7/7 [==============================] - 0s 12ms/step - loss: 45382.8633 - mean_absolute_error: 211.3454 - val_loss: 26586.0684 - val_mean_absolute_error: 162.6841\n",
      "Epoch 24/100\n",
      "7/7 [==============================] - 0s 41ms/step - loss: 40738.2461 - mean_absolute_error: 200.0461 - val_loss: 22923.6680 - val_mean_absolute_error: 151.0090\n",
      "Epoch 25/100\n",
      "7/7 [==============================] - 0s 16ms/step - loss: 36073.6797 - mean_absolute_error: 188.0822 - val_loss: 19324.2031 - val_mean_absolute_error: 138.5793\n",
      "Epoch 26/100\n",
      "7/7 [==============================] - 0s 17ms/step - loss: 31492.4688 - mean_absolute_error: 175.4066 - val_loss: 15872.0625 - val_mean_absolute_error: 125.5070\n",
      "Epoch 27/100\n",
      "7/7 [==============================] - 0s 16ms/step - loss: 26983.7617 - mean_absolute_error: 162.0466 - val_loss: 12473.5146 - val_mean_absolute_error: 111.1445\n",
      "Epoch 28/100\n",
      "7/7 [==============================] - 0s 27ms/step - loss: 22391.8301 - mean_absolute_error: 147.1692 - val_loss: 9387.5166 - val_mean_absolute_error: 96.2683\n",
      "Epoch 29/100\n",
      "7/7 [==============================] - 0s 49ms/step - loss: 18286.6328 - mean_absolute_error: 132.4715 - val_loss: 6783.6431 - val_mean_absolute_error: 81.6314\n",
      "Epoch 30/100\n",
      "7/7 [==============================] - 0s 24ms/step - loss: 14622.1934 - mean_absolute_error: 117.7579 - val_loss: 4592.6392 - val_mean_absolute_error: 66.8781\n",
      "Epoch 31/100\n",
      "7/7 [==============================] - 0s 26ms/step - loss: 11362.5771 - mean_absolute_error: 103.1334 - val_loss: 2871.3848 - val_mean_absolute_error: 52.4529\n",
      "Epoch 32/100\n",
      "7/7 [==============================] - 0s 47ms/step - loss: 8625.9941 - mean_absolute_error: 88.7223 - val_loss: 1503.5581 - val_mean_absolute_error: 37.1682\n",
      "Epoch 33/100\n",
      "7/7 [==============================] - 0s 25ms/step - loss: 6037.2378 - mean_absolute_error: 72.9163 - val_loss: 613.6163 - val_mean_absolute_error: 22.2186\n",
      "Epoch 34/100\n",
      "7/7 [==============================] - 0s 32ms/step - loss: 4216.1309 - mean_absolute_error: 58.9430 - val_loss: 207.4679 - val_mean_absolute_error: 11.3626\n",
      "Epoch 35/100\n",
      "7/7 [==============================] - 0s 20ms/step - loss: 2908.6619 - mean_absolute_error: 46.6426 - val_loss: 123.9449 - val_mean_absolute_error: 9.9130\n",
      "Epoch 36/100\n",
      "7/7 [==============================] - 0s 43ms/step - loss: 2002.0782 - mean_absolute_error: 36.7346 - val_loss: 257.5168 - val_mean_absolute_error: 13.0735\n",
      "Epoch 37/100\n",
      "7/7 [==============================] - 0s 10ms/step - loss: 1426.4147 - mean_absolute_error: 30.1610 - val_loss: 513.7176 - val_mean_absolute_error: 19.8425\n",
      "Epoch 38/100\n",
      "7/7 [==============================] - 0s 11ms/step - loss: 1080.6771 - mean_absolute_error: 26.0867 - val_loss: 817.8901 - val_mean_absolute_error: 26.4175\n",
      "Epoch 39/100\n",
      "7/7 [==============================] - 0s 10ms/step - loss: 893.9190 - mean_absolute_error: 23.8086 - val_loss: 1115.7611 - val_mean_absolute_error: 31.5554\n",
      "Epoch 40/100\n",
      "7/7 [==============================] - 0s 34ms/step - loss: 792.0856 - mean_absolute_error: 22.7642 - val_loss: 1366.6205 - val_mean_absolute_error: 35.3073\n",
      "Epoch 41/100\n",
      "7/7 [==============================] - 0s 19ms/step - loss: 743.4291 - mean_absolute_error: 22.3392 - val_loss: 1533.5936 - val_mean_absolute_error: 37.5977\n",
      "Epoch 42/100\n",
      "7/7 [==============================] - 0s 14ms/step - loss: 723.4916 - mean_absolute_error: 22.1965 - val_loss: 1648.9673 - val_mean_absolute_error: 39.1021\n",
      "Epoch 43/100\n",
      "7/7 [==============================] - 0s 25ms/step - loss: 719.0479 - mean_absolute_error: 22.2465 - val_loss: 1772.8380 - val_mean_absolute_error: 40.6553\n",
      "Epoch 44/100\n",
      "7/7 [==============================] - 0s 14ms/step - loss: 714.6610 - mean_absolute_error: 22.2923 - val_loss: 1866.5345 - val_mean_absolute_error: 41.7918\n",
      "Epoch 45/100\n",
      "7/7 [==============================] - 0s 14ms/step - loss: 715.5164 - mean_absolute_error: 22.3844 - val_loss: 1937.4250 - val_mean_absolute_error: 42.6316\n",
      "Epoch 46/100\n",
      "7/7 [==============================] - 0s 12ms/step - loss: 716.2155 - mean_absolute_error: 22.4134 - val_loss: 1971.5035 - val_mean_absolute_error: 43.0295\n",
      "Epoch 47/100\n",
      "7/7 [==============================] - 0s 24ms/step - loss: 716.2667 - mean_absolute_error: 22.4255 - val_loss: 1951.5004 - val_mean_absolute_error: 42.7965\n",
      "Epoch 48/100\n",
      "7/7 [==============================] - 0s 11ms/step - loss: 715.6535 - mean_absolute_error: 22.4133 - val_loss: 1936.4087 - val_mean_absolute_error: 42.6198\n",
      "Epoch 49/100\n",
      "7/7 [==============================] - 0s 11ms/step - loss: 715.2010 - mean_absolute_error: 22.3871 - val_loss: 1904.0519 - val_mean_absolute_error: 42.2385\n",
      "Epoch 50/100\n",
      "7/7 [==============================] - 0s 15ms/step - loss: 714.5426 - mean_absolute_error: 22.3647 - val_loss: 1892.1488 - val_mean_absolute_error: 42.0974\n",
      "Epoch 51/100\n",
      "7/7 [==============================] - 0s 10ms/step - loss: 714.3760 - mean_absolute_error: 22.3520 - val_loss: 1869.6854 - val_mean_absolute_error: 41.8298\n",
      "Epoch 52/100\n",
      "7/7 [==============================] - 0s 12ms/step - loss: 714.4313 - mean_absolute_error: 22.3372 - val_loss: 1861.4734 - val_mean_absolute_error: 41.7315\n",
      "Epoch 53/100\n",
      "7/7 [==============================] - 0s 10ms/step - loss: 714.2947 - mean_absolute_error: 22.3317 - val_loss: 1858.9183 - val_mean_absolute_error: 41.7010\n",
      "Epoch 54/100\n",
      "7/7 [==============================] - 0s 8ms/step - loss: 714.0734 - mean_absolute_error: 22.3269 - val_loss: 1842.6938 - val_mean_absolute_error: 41.5105\n",
      "Epoch 55/100\n",
      "7/7 [==============================] - 0s 10ms/step - loss: 712.2267 - mean_absolute_error: 22.2540 - val_loss: 1547.8918 - val_mean_absolute_error: 37.8479\n",
      "Epoch 56/100\n",
      "7/7 [==============================] - 0s 11ms/step - loss: 694.6030 - mean_absolute_error: 21.9594 - val_loss: 1803.2086 - val_mean_absolute_error: 41.0686\n",
      "Epoch 57/100\n",
      "7/7 [==============================] - 0s 13ms/step - loss: 702.6428 - mean_absolute_error: 22.1388 - val_loss: 1806.0366 - val_mean_absolute_error: 41.1096\n",
      "Epoch 58/100\n",
      "7/7 [==============================] - 0s 11ms/step - loss: 696.9552 - mean_absolute_error: 22.0327 - val_loss: 1688.2844 - val_mean_absolute_error: 39.6684\n",
      "Epoch 59/100\n",
      "7/7 [==============================] - 0s 12ms/step - loss: 689.5934 - mean_absolute_error: 21.8378 - val_loss: 1705.9602 - val_mean_absolute_error: 39.8935\n",
      "Epoch 60/100\n",
      "7/7 [==============================] - 0s 13ms/step - loss: 694.1102 - mean_absolute_error: 22.0606 - val_loss: 1859.4851 - val_mean_absolute_error: 41.7732\n",
      "Epoch 61/100\n",
      "7/7 [==============================] - 0s 11ms/step - loss: 689.8162 - mean_absolute_error: 21.9786 - val_loss: 1773.8461 - val_mean_absolute_error: 40.7410\n",
      "Epoch 62/100\n",
      "7/7 [==============================] - 0s 11ms/step - loss: 683.3815 - mean_absolute_error: 21.8196 - val_loss: 1745.4257 - val_mean_absolute_error: 40.3896\n",
      "Epoch 63/100\n",
      "7/7 [==============================] - 0s 10ms/step - loss: 681.9036 - mean_absolute_error: 21.8106 - val_loss: 1771.3481 - val_mean_absolute_error: 40.7145\n",
      "Epoch 64/100\n",
      "7/7 [==============================] - 0s 13ms/step - loss: 682.9222 - mean_absolute_error: 21.7908 - val_loss: 1723.4130 - val_mean_absolute_error: 40.1229\n",
      "Epoch 65/100\n",
      "7/7 [==============================] - 0s 12ms/step - loss: 673.3478 - mean_absolute_error: 21.6469 - val_loss: 1636.4507 - val_mean_absolute_error: 39.0813\n",
      "Epoch 66/100\n",
      "7/7 [==============================] - 0s 8ms/step - loss: 669.3468 - mean_absolute_error: 21.5423 - val_loss: 1679.8868 - val_mean_absolute_error: 39.6418\n",
      "Epoch 67/100\n",
      "7/7 [==============================] - 0s 10ms/step - loss: 658.4263 - mean_absolute_error: 21.2685 - val_loss: 1577.5352 - val_mean_absolute_error: 38.3308\n",
      "Epoch 68/100\n",
      "7/7 [==============================] - 0s 7ms/step - loss: 675.2757 - mean_absolute_error: 21.7842 - val_loss: 1884.9318 - val_mean_absolute_error: 42.1351\n",
      "Epoch 69/100\n",
      "7/7 [==============================] - 0s 7ms/step - loss: 658.4547 - mean_absolute_error: 21.5050 - val_loss: 1486.0142 - val_mean_absolute_error: 37.1573\n",
      "Epoch 70/100\n",
      "7/7 [==============================] - 0s 8ms/step - loss: 641.0817 - mean_absolute_error: 20.9910 - val_loss: 1465.4736 - val_mean_absolute_error: 36.9287\n",
      "Epoch 71/100\n",
      "7/7 [==============================] - 0s 8ms/step - loss: 624.3210 - mean_absolute_error: 20.7509 - val_loss: 1271.7150 - val_mean_absolute_error: 34.2321\n",
      "Epoch 72/100\n",
      "7/7 [==============================] - 0s 8ms/step - loss: 624.3843 - mean_absolute_error: 20.6568 - val_loss: 1391.9130 - val_mean_absolute_error: 35.9639\n",
      "Epoch 73/100\n",
      "7/7 [==============================] - 0s 6ms/step - loss: 611.6997 - mean_absolute_error: 20.4395 - val_loss: 1437.4756 - val_mean_absolute_error: 36.6070\n",
      "Epoch 74/100\n",
      "7/7 [==============================] - 0s 8ms/step - loss: 604.9250 - mean_absolute_error: 20.5133 - val_loss: 1373.1675 - val_mean_absolute_error: 35.7490\n",
      "Epoch 75/100\n",
      "7/7 [==============================] - 0s 10ms/step - loss: 606.7072 - mean_absolute_error: 20.2246 - val_loss: 1547.9261 - val_mean_absolute_error: 38.1184\n",
      "Epoch 76/100\n",
      "7/7 [==============================] - 0s 12ms/step - loss: 614.3774 - mean_absolute_error: 20.7074 - val_loss: 1509.6494 - val_mean_absolute_error: 37.6072\n",
      "Epoch 77/100\n",
      "7/7 [==============================] - 0s 12ms/step - loss: 587.9476 - mean_absolute_error: 20.1176 - val_loss: 1222.6350 - val_mean_absolute_error: 33.5826\n",
      "Epoch 78/100\n",
      "7/7 [==============================] - 0s 10ms/step - loss: 583.4367 - mean_absolute_error: 20.0191 - val_loss: 1392.3037 - val_mean_absolute_error: 36.0932\n",
      "Epoch 79/100\n",
      "7/7 [==============================] - 0s 7ms/step - loss: 568.0440 - mean_absolute_error: 19.5020 - val_loss: 1517.9359 - val_mean_absolute_error: 37.8169\n",
      "Epoch 80/100\n",
      "7/7 [==============================] - 0s 5ms/step - loss: 570.0169 - mean_absolute_error: 19.9564 - val_loss: 1185.3395 - val_mean_absolute_error: 33.0842\n",
      "Epoch 81/100\n",
      "7/7 [==============================] - 0s 7ms/step - loss: 577.1803 - mean_absolute_error: 19.6294 - val_loss: 1325.2094 - val_mean_absolute_error: 35.1816\n",
      "Epoch 82/100\n",
      "7/7 [==============================] - 0s 5ms/step - loss: 568.7726 - mean_absolute_error: 19.8735 - val_loss: 1196.8890 - val_mean_absolute_error: 33.3004\n",
      "Epoch 83/100\n",
      "7/7 [==============================] - 0s 7ms/step - loss: 563.3848 - mean_absolute_error: 19.3791 - val_loss: 1431.6963 - val_mean_absolute_error: 36.6738\n",
      "Epoch 84/100\n",
      "7/7 [==============================] - 0s 7ms/step - loss: 568.5958 - mean_absolute_error: 19.9957 - val_loss: 1429.3024 - val_mean_absolute_error: 36.6024\n",
      "Epoch 85/100\n",
      "7/7 [==============================] - 0s 9ms/step - loss: 549.0246 - mean_absolute_error: 19.2722 - val_loss: 1360.8405 - val_mean_absolute_error: 35.6842\n",
      "Epoch 86/100\n",
      "7/7 [==============================] - 0s 8ms/step - loss: 544.6232 - mean_absolute_error: 19.4145 - val_loss: 1182.1555 - val_mean_absolute_error: 33.1174\n",
      "Epoch 87/100\n",
      "7/7 [==============================] - 0s 9ms/step - loss: 514.5969 - mean_absolute_error: 18.7112 - val_loss: 795.0786 - val_mean_absolute_error: 26.8424\n",
      "Epoch 88/100\n",
      "7/7 [==============================] - 0s 8ms/step - loss: 508.3570 - mean_absolute_error: 18.4547 - val_loss: 1398.5374 - val_mean_absolute_error: 36.3747\n",
      "Epoch 89/100\n",
      "7/7 [==============================] - 0s 7ms/step - loss: 489.7236 - mean_absolute_error: 18.1961 - val_loss: 825.7815 - val_mean_absolute_error: 27.5046\n",
      "Epoch 90/100\n",
      "7/7 [==============================] - 0s 7ms/step - loss: 457.7674 - mean_absolute_error: 17.3383 - val_loss: 939.8004 - val_mean_absolute_error: 29.6843\n",
      "Epoch 91/100\n",
      "7/7 [==============================] - 0s 8ms/step - loss: 437.8616 - mean_absolute_error: 17.1477 - val_loss: 598.2052 - val_mean_absolute_error: 23.3331\n",
      "Epoch 92/100\n",
      "7/7 [==============================] - 0s 8ms/step - loss: 442.5514 - mean_absolute_error: 16.7984 - val_loss: 1150.2440 - val_mean_absolute_error: 33.0706\n",
      "Epoch 93/100\n",
      "7/7 [==============================] - 0s 8ms/step - loss: 445.9583 - mean_absolute_error: 17.0194 - val_loss: 1094.6250 - val_mean_absolute_error: 32.2726\n",
      "Epoch 94/100\n",
      "7/7 [==============================] - 0s 9ms/step - loss: 424.8057 - mean_absolute_error: 17.2838 - val_loss: 394.6751 - val_mean_absolute_error: 18.6160\n",
      "Epoch 95/100\n",
      "7/7 [==============================] - 0s 7ms/step - loss: 384.3388 - mean_absolute_error: 15.8854 - val_loss: 626.6429 - val_mean_absolute_error: 24.1825\n",
      "Epoch 96/100\n",
      "7/7 [==============================] - 0s 7ms/step - loss: 362.0465 - mean_absolute_error: 15.2413 - val_loss: 926.0355 - val_mean_absolute_error: 29.7931\n",
      "Epoch 97/100\n",
      "7/7 [==============================] - 0s 5ms/step - loss: 354.2111 - mean_absolute_error: 15.3754 - val_loss: 835.8337 - val_mean_absolute_error: 28.2998\n",
      "Epoch 98/100\n",
      "7/7 [==============================] - 0s 7ms/step - loss: 305.7516 - mean_absolute_error: 14.2236 - val_loss: 192.5985 - val_mean_absolute_error: 12.6983\n",
      "Epoch 99/100\n",
      "7/7 [==============================] - 0s 7ms/step - loss: 303.9868 - mean_absolute_error: 14.2055 - val_loss: 385.5893 - val_mean_absolute_error: 18.8561\n",
      "Epoch 100/100\n",
      "7/7 [==============================] - 0s 6ms/step - loss: 255.2487 - mean_absolute_error: 12.8750 - val_loss: 254.3013 - val_mean_absolute_error: 15.0987\n"
     ]
    },
    {
     "data": {
      "text/plain": [
       "<keras.callbacks.History at 0x27b66f92830>"
      ]
     },
     "execution_count": 12,
     "metadata": {},
     "output_type": "execute_result"
    }
   ],
   "source": [
    "from tensorflow.keras.models import Sequential\n",
    "from tensorflow.keras.optimizers import Adam\n",
    "from tensorflow.keras import layers\n",
    "\n",
    "model = Sequential([layers.Input((3, 1)),\n",
    "                    layers.LSTM(64),\n",
    "                    layers.Dense(32, activation='relu'),\n",
    "                    layers.Dense(32, activation='relu'),\n",
    "                    layers.Dense(1)])\n",
    "\n",
    "model.compile(loss='mse', \n",
    "              optimizer=Adam(learning_rate=0.001),\n",
    "              metrics=['mean_absolute_error'])\n",
    "\n",
    "model.fit(X_train, y_train, validation_data=(X_val, y_val), epochs=100)"
   ]
  },
  {
   "cell_type": "code",
   "execution_count": 13,
   "metadata": {
    "colab": {
     "base_uri": "https://localhost:8080/",
     "height": 283
    },
    "id": "gG8eOTzEVl_X",
    "outputId": "93b02019-ae45-4c66-b604-835458210dfb"
   },
   "outputs": [
    {
     "name": "stdout",
     "output_type": "stream",
     "text": [
      "7/7 [==============================] - 1s 2ms/step\n"
     ]
    },
    {
     "data": {
      "text/plain": [
       "<matplotlib.legend.Legend at 0x27b6b592a70>"
      ]
     },
     "execution_count": 13,
     "metadata": {},
     "output_type": "execute_result"
    },
    {
     "data": {
      "image/png": "[encoded data removed]",
      "text/plain": [
       "<Figure size 432x288 with 1 Axes>"
      ]
     },
     "metadata": {
      "needs_background": "light"
     },
     "output_type": "display_data"
    }
   ],
   "source": [
    "train_predictions = model.predict(X_train).flatten()\n",
    "\n",
    "plt.plot(dates_train, train_predictions)\n",
    "plt.plot(dates_train, y_train)\n",
    "plt.legend(['Training Predictions', 'Training Observations'])"
   ]
  },
  {
   "cell_type": "code",
   "execution_count": 14,
   "metadata": {
    "colab": {
     "base_uri": "https://localhost:8080/",
     "height": 283
    },
    "id": "UrRaAUbnWBhE",
    "outputId": "ddb80173-dfd5-485d-e1fd-ab643b7b6433"
   },
   "outputs": [
    {
     "name": "stdout",
     "output_type": "stream",
     "text": [
      "1/1 [==============================] - 0s 25ms/step\n"
     ]
    },
    {
     "data": {
      "text/plain": [
       "<matplotlib.legend.Legend at 0x27b682ea1a0>"
      ]
     },
     "execution_count": 14,
     "metadata": {},
     "output_type": "execute_result"
    },
    {
     "data": {
      "image/png": "[encoded data removed]",
      "text/plain": [
       "<Figure size 432x288 with 1 Axes>"
      ]
     },
     "metadata": {
      "needs_background": "light"
     },
     "output_type": "display_data"
    }
   ],
   "source": [
    "val_predictions = model.predict(X_val).flatten()\n",
    "\n",
    "plt.plot(dates_val, val_predictions)\n",
    "plt.plot(dates_val, y_val)\n",
    "plt.legend(['Validation Predictions', 'Validation Observations'])"
   ]
  },
  {
   "cell_type": "code",
   "execution_count": 15,
   "metadata": {
    "colab": {
     "base_uri": "https://localhost:8080/",
     "height": 284
    },
    "id": "wF5sDSxVWLFd",
    "outputId": "cf54dd02-18b9-4666-8cd0-c8f2320e80b9"
   },
   "outputs": [
    {
     "name": "stdout",
     "output_type": "stream",
     "text": [
      "1/1 [==============================] - 0s 31ms/step\n"
     ]
    },
    {
     "data": {
      "text/plain": [
       "<matplotlib.legend.Legend at 0x27b66f5b5e0>"
      ]
     },
     "execution_count": 15,
     "metadata": {},
     "output_type": "execute_result"
    },
    {
     "data": {
      "image/png": "[encoded data removed]",
      "text/plain": [
       "<Figure size 432x288 with 1 Axes>"
      ]
     },
     "metadata": {
      "needs_background": "light"
     },
     "output_type": "display_data"
    }
   ],
   "source": [
    "test_predictions = model.predict(X_test).flatten()\n",
    "\n",
    "plt.plot(dates_test, test_predictions)\n",
    "plt.plot(dates_test, y_test)\n",
    "plt.legend(['Testing Predictions', 'Testing Observations'])"
   ]
  },
  {
   "cell_type": "code",
   "execution_count": 16,
   "metadata": {
    "colab": {
     "base_uri": "https://localhost:8080/",
     "height": 283
    },
    "id": "8b-JsTvEWfAm",
    "outputId": "169e03e9-020b-4062-fc23-6d1bc37792a3"
   },
   "outputs": [
    {
     "data": {
      "text/plain": [
       "<matplotlib.legend.Legend at 0x27b497b4220>"
      ]
     },
     "execution_count": 16,
     "metadata": {},
     "output_type": "execute_result"
    },
    {
     "data": {
      "image/png": "[encoded data removed]",
      "text/plain": [
       "<Figure size 432x288 with 1 Axes>"
      ]
     },
     "metadata": {
      "needs_background": "light"
     },
     "output_type": "display_data"
    }
   ],
   "source": [
    "plt.plot(dates_train, train_predictions)\n",
    "plt.plot(dates_train, y_train)\n",
    "plt.plot(dates_val, val_predictions)\n",
    "plt.plot(dates_val, y_val)\n",
    "plt.plot(dates_test, test_predictions)\n",
    "plt.plot(dates_test, y_test)\n",
    "plt.legend(['Training Predictions', \n",
    "            'Training Observations',\n",
    "            'Validation Predictions', \n",
    "            'Validation Observations',\n",
    "            'Testing Predictions', \n",
    "            'Testing Observations'])"
   ]
  },
  {
   "cell_type": "code",
   "execution_count": 18,
   "metadata": {
    "id": "qb0ryudqWwkf"
   },
   "outputs": [
    {
     "name": "stdout",
     "output_type": "stream",
     "text": [
      "1/1 [==============================] - 0s 24ms/step\n",
      "1/1 [==============================] - 0s 16ms/step\n",
      "1/1 [==============================] - 0s 31ms/step\n",
      "1/1 [==============================] - 0s 31ms/step\n",
      "1/1 [==============================] - 0s 31ms/step\n",
      "1/1 [==============================] - 0s 32ms/step\n",
      "1/1 [==============================] - 0s 32ms/step\n",
      "1/1 [==============================] - 0s 31ms/step\n",
      "1/1 [==============================] - 0s 47ms/step\n",
      "1/1 [==============================] - 0s 31ms/step\n",
      "1/1 [==============================] - 0s 31ms/step\n",
      "1/1 [==============================] - 0s 32ms/step\n",
      "1/1 [==============================] - 0s 51ms/step\n",
      "1/1 [==============================] - 0s 31ms/step\n",
      "1/1 [==============================] - 0s 16ms/step\n",
      "1/1 [==============================] - 0s 31ms/step\n",
      "1/1 [==============================] - 0s 31ms/step\n",
      "1/1 [==============================] - 0s 45ms/step\n",
      "1/1 [==============================] - 0s 25ms/step\n",
      "1/1 [==============================] - 0s 26ms/step\n",
      "1/1 [==============================] - 0s 16ms/step\n",
      "1/1 [==============================] - 0s 31ms/step\n",
      "1/1 [==============================] - 0s 16ms/step\n",
      "1/1 [==============================] - 0s 16ms/step\n",
      "1/1 [==============================] - 0s 31ms/step\n",
      "1/1 [==============================] - 0s 40ms/step\n",
      "1/1 [==============================] - 0s 23ms/step\n",
      "1/1 [==============================] - 0s 42ms/step\n",
      "1/1 [==============================] - 0s 31ms/step\n",
      "1/1 [==============================] - 0s 32ms/step\n",
      "1/1 [==============================] - 0s 16ms/step\n",
      "1/1 [==============================] - 0s 16ms/step\n",
      "1/1 [==============================] - 0s 16ms/step\n",
      "1/1 [==============================] - 0s 31ms/step\n",
      "1/1 [==============================] - 0s 32ms/step\n",
      "1/1 [==============================] - 0s 31ms/step\n",
      "1/1 [==============================] - 0s 16ms/step\n",
      "1/1 [==============================] - 0s 17ms/step\n",
      "1/1 [==============================] - 0s 31ms/step\n",
      "1/1 [==============================] - 0s 32ms/step\n",
      "1/1 [==============================] - 0s 24ms/step\n",
      "1/1 [==============================] - 0s 24ms/step\n",
      "1/1 [==============================] - 0s 28ms/step\n",
      "1/1 [==============================] - 0s 23ms/step\n",
      "1/1 [==============================] - 0s 18ms/step\n",
      "1/1 [==============================] - 0s 31ms/step\n",
      "1/1 [==============================] - 0s 35ms/step\n",
      "1/1 [==============================] - 0s 32ms/step\n",
      "1/1 [==============================] - 0s 32ms/step\n",
      "1/1 [==============================] - 0s 31ms/step\n"
     ]
    }
   ],
   "source": [
    "from copy import deepcopy\n",
    "\n",
    "recursive_predictions = []\n",
    "recursive_dates = np.concatenate([dates_val, dates_test])\n",
    "\n",
    "for target_date in recursive_dates:\n",
    "  last_window = deepcopy(X_train[-1])\n",
    "  next_prediction = model.predict(np.array([last_window])).flatten()\n",
    "  recursive_predictions.append(next_prediction)\n",
    "  last_window[-1] = next_prediction"
   ]
  },
  {
   "cell_type": "code",
   "execution_count": 19,
   "metadata": {
    "colab": {
     "base_uri": "https://localhost:8080/",
     "height": 283
    },
    "id": "6BEMkYmtbwkg",
    "outputId": "60ae2fad-f47c-415e-f72f-df6629d270ec"
   },
   "outputs": [
    {
     "data": {
      "text/plain": [
       "<matplotlib.legend.Legend at 0x27b6b839660>"
      ]
     },
     "execution_count": 19,
     "metadata": {},
     "output_type": "execute_result"
    },
    {
     "data": {
      "image/png": "[encoded data removed]",
      "text/plain": [
       "<Figure size 432x288 with 1 Axes>"
      ]
     },
     "metadata": {
      "needs_background": "light"
     },
     "output_type": "display_data"
    }
   ],
   "source": [
    "plt.plot(dates_train, train_predictions)\n",
    "plt.plot(dates_train, y_train)\n",
    "plt.plot(dates_val, val_predictions)\n",
    "plt.plot(dates_val, y_val)\n",
    "plt.plot(dates_test, test_predictions)\n",
    "plt.plot(dates_test, y_test)\n",
    "plt.plot(recursive_dates, recursive_predictions)\n",
    "plt.legend(['Training Predictions', \n",
    "            'Training Observations',\n",
    "            'Validation Predictions', \n",
    "            'Validation Observations',\n",
    "            'Testing Predictions', \n",
    "            'Testing Observations',\n",
    "            'Recursive Predictions'])"
   ]
  },
  {
   "cell_type": "code",
   "execution_count": null,
   "metadata": {
    "id": "zhWT0Pd-b4ab"
   },
   "outputs": [],
   "source": []
  }
 ],
 "metadata": {
  "colab": {
   "collapsed_sections": [],
   "provenance": []
  },
  "kernelspec": {
   "display_name": "Python 3 (ipykernel)",
   "language": "python",
   "name": "python3"
  },
  "language_info": {
   "codemirror_mode": {
    "name": "ipython",
    "version": 3
   },
   "file_extension": ".py",
   "mimetype": "text/x-python",
   "name": "python",
   "nbconvert_exporter": "python",
   "pygments_lexer": "ipython3",
   "version": "3.10.5"
  }
 },
 "nbformat": 4,
 "nbformat_minor": 1
}
